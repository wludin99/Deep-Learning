{
  "cells": [
    {
      "cell_type": "markdown",
      "metadata": {
        "id": "view-in-github",
        "colab_type": "text"
      },
      "source": [
        "<a href=\"https://colab.research.google.com/github/wludin99/Deep-Learning/blob/main/DeepL.ipynb\" target=\"_parent\"><img src=\"https://colab.research.google.com/assets/colab-badge.svg\" alt=\"Open In Colab\"/></a>"
      ]
    },
    {
      "cell_type": "markdown",
      "metadata": {
        "id": "RrLk1cZ16teB"
      },
      "source": [
        "Mount Google Drive to access Python scripts"
      ]
    },
    {
      "cell_type": "code",
      "execution_count": null,
      "metadata": {
        "colab": {
          "base_uri": "https://localhost:8080/"
        },
        "id": "1vEndHuZ1fzQ",
        "outputId": "bd5a2b75-daa1-42fc-f299-839a29db1272"
      },
      "outputs": [
        {
          "output_type": "stream",
          "name": "stdout",
          "text": [
            "Mounted at /content/drive\n"
          ]
        }
      ],
      "source": [
        "from google.colab import drive\n",
        "drive.mount(\"/content/drive\", force_remount=True)\n"
      ]
    },
    {
      "cell_type": "markdown",
      "metadata": {
        "id": "Rsa99wPQ609O"
      },
      "source": [
        "Install Dependencies not already in Colab"
      ]
    },
    {
      "cell_type": "code",
      "execution_count": null,
      "metadata": {
        "colab": {
          "base_uri": "https://localhost:8080/"
        },
        "id": "80RpgGCgPPyz",
        "outputId": "411e7954-fd47-41ce-a429-e8d9bd8f08fb"
      },
      "outputs": [
        {
          "output_type": "stream",
          "name": "stdout",
          "text": [
            "Looking in indexes: https://pypi.org/simple, https://us-python.pkg.dev/colab-wheels/public/simple/\n",
            "Collecting torchattacks\n",
            "  Downloading torchattacks-3.3.0-py3-none-any.whl (155 kB)\n",
            "\u001b[K     |████████████████████████████████| 155 kB 7.9 MB/s \n",
            "\u001b[?25hInstalling collected packages: torchattacks\n",
            "Successfully installed torchattacks-3.3.0\n"
          ]
        }
      ],
      "source": [
        "pip install torchattacks"
      ]
    },
    {
      "cell_type": "markdown",
      "metadata": {
        "id": "d1QxI8u0FTxh"
      },
      "source": [
        "Change Working Directory to Project Folder"
      ]
    },
    {
      "cell_type": "code",
      "source": [
        "import os \n",
        "\n",
        "# Set your working directory to a folder in your Google Drive. This way, if your notebook times out,\n",
        "# your files will be saved in your Google Drive!\n",
        "\n",
        "# the base Google Drive directory\n",
        "root_dir = \"/content/drive/My Drive/\"\n",
        "\n",
        "# choose where you want your project files to be saved\n",
        "project_folder = \"Deep Learning Mini-Project/\"\n",
        "\n",
        "def create_and_set_working_directory(project_folder):\n",
        "  # check if your project folder exists. if not, it will be created.\n",
        "  if os.path.isdir(root_dir + project_folder) == False:\n",
        "    os.mkdir(root_dir + project_folder)\n",
        "    print(root_dir + project_folder + ' did not exist but was created.')\n",
        "\n",
        "  # change the OS to use your project folder as the working directory\n",
        "  os.chdir(root_dir + project_folder)\n",
        "\n",
        "  # create a test file to make sure it shows up in the right place\n",
        "  !touch 'new_file_in_working_directory.txt'\n",
        "  print('\\nYour working directory was changed to ' + root_dir + project_folder + \\\n",
        "        \"\\n\\nAn empty text file was created there. You can also run !pwd to confirm the current working directory.\" )\n",
        "\n",
        "create_and_set_working_directory(project_folder)"
      ],
      "metadata": {
        "colab": {
          "base_uri": "https://localhost:8080/"
        },
        "id": "T6gnf9xj3bM4",
        "outputId": "3fd15e3f-2f5f-4e9e-839e-d8bb0d147bff"
      },
      "execution_count": null,
      "outputs": [
        {
          "output_type": "stream",
          "name": "stdout",
          "text": [
            "\n",
            "Your working directory was changed to /content/drive/My Drive/Deep Learning Mini-Project/\n",
            "\n",
            "An empty text file was created there. You can also run !pwd to confirm the current working directory.\n"
          ]
        }
      ]
    },
    {
      "cell_type": "markdown",
      "metadata": {
        "id": "LZNUM1qU69J4"
      },
      "source": [
        "Run script and download .pth file that saves trained model weights"
      ]
    },
    {
      "cell_type": "code",
      "execution_count": null,
      "metadata": {
        "colab": {
          "base_uri": "https://localhost:8080/",
          "height": 1000
        },
        "id": "_U47U7dAGG3W",
        "outputId": "46f90aae-b68d-4b92-b1a1-07d610df9c36"
      },
      "outputs": [
        {
          "output_type": "stream",
          "name": "stdout",
          "text": [
            "Traceback (most recent call last):\n",
            "  File \"/content/drive/MyDrive/Colab Notebooks/SNN-RAT-master/main_train.py\", line 8, in <module>\n",
            "    from data_loaders import cifar10\n",
            "  File \"/content/drive/MyDrive/Colab Notebooks/SNN-RAT-master/data_loaders.py\", line 1, in <module>\n",
            "    import torchvision.transforms as transforms\n",
            "  File \"/usr/local/lib/python3.8/dist-packages/torchvision/__init__.py\", line 5, in <module>\n",
            "    from torchvision import datasets, io, models, ops, transforms, utils\n",
            "  File \"/usr/local/lib/python3.8/dist-packages/torchvision/datasets/__init__.py\", line 1, in <module>\n",
            "    from ._optical_flow import FlyingChairs, FlyingThings3D, HD1K, KittiFlow, Sintel\n",
            "  File \"/usr/local/lib/python3.8/dist-packages/torchvision/datasets/_optical_flow.py\", line 12, in <module>\n",
            "    from .utils import _read_pfm, verify_str_arg\n",
            "  File \"/usr/local/lib/python3.8/dist-packages/torchvision/datasets/utils.py\", line 22, in <module>\n",
            "    import requests\n",
            "  File \"/usr/local/lib/python3.8/dist-packages/requests/__init__.py\", line 44, in <module>\n",
            "    import chardet\n",
            "  File \"/usr/local/lib/python3.8/dist-packages/chardet/__init__.py\", line 20, in <module>\n",
            "    from .universaldetector import UniversalDetector\n",
            "  File \"/usr/local/lib/python3.8/dist-packages/chardet/universaldetector.py\", line 47, in <module>\n",
            "    from .mbcsgroupprober import MBCSGroupProber\n",
            "  File \"/usr/local/lib/python3.8/dist-packages/chardet/mbcsgroupprober.py\", line 32, in <module>\n",
            "    from .sjisprober import SJISProber\n",
            "  File \"/usr/local/lib/python3.8/dist-packages/chardet/sjisprober.py\", line 30, in <module>\n",
            "    from .chardistribution import SJISDistributionAnalysis\n",
            "  File \"/usr/local/lib/python3.8/dist-packages/chardet/chardistribution.py\", line 34, in <module>\n",
            "    from .big5freq import (BIG5_CHAR_TO_FREQ_ORDER, BIG5_TABLE_SIZE,\n",
            "  File \"<frozen importlib._bootstrap>\", line 991, in _find_and_load\n",
            "  File \"<frozen importlib._bootstrap>\", line 975, in _find_and_load_unlocked\n",
            "  File \"<frozen importlib._bootstrap>\", line 671, in _load_unlocked\n",
            "  File \"<frozen importlib._bootstrap_external>\", line 839, in exec_module\n",
            "  File \"<frozen importlib._bootstrap_external>\", line 971, in get_code\n",
            "  File \"<frozen importlib._bootstrap_external>\", line 640, in _compile_bytecode\n",
            "KeyboardInterrupt\n",
            "^C\n",
            "\tzip warning: name not matched: /content/cifar10-checkpoints\n",
            "\n",
            "zip error: Nothing to do! (try: zip -r /content/cifar10-checkpoints.zip . -i /content/cifar10-checkpoints)\n"
          ]
        },
        {
          "output_type": "error",
          "ename": "FileNotFoundError",
          "evalue": "ignored",
          "traceback": [
            "\u001b[0;31m---------------------------------------------------------------------------\u001b[0m",
            "\u001b[0;31mFileNotFoundError\u001b[0m                         Traceback (most recent call last)",
            "\u001b[0;32m<ipython-input-3-cafa45dca58b>\u001b[0m in \u001b[0;36m<module>\u001b[0;34m\u001b[0m\n\u001b[1;32m     26\u001b[0m \u001b[0;32mfrom\u001b[0m \u001b[0mgoogle\u001b[0m\u001b[0;34m.\u001b[0m\u001b[0mcolab\u001b[0m \u001b[0;32mimport\u001b[0m \u001b[0mfiles\u001b[0m\u001b[0;34m\u001b[0m\u001b[0;34m\u001b[0m\u001b[0m\n\u001b[1;32m     27\u001b[0m \u001b[0mget_ipython\u001b[0m\u001b[0;34m(\u001b[0m\u001b[0;34m)\u001b[0m\u001b[0;34m.\u001b[0m\u001b[0msystem\u001b[0m\u001b[0;34m(\u001b[0m\u001b[0;34m'zip -r /content/cifar10-checkpoints.zip /content/cifar10-checkpoints'\u001b[0m\u001b[0;34m)\u001b[0m\u001b[0;34m\u001b[0m\u001b[0;34m\u001b[0m\u001b[0m\n\u001b[0;32m---> 28\u001b[0;31m \u001b[0mfiles\u001b[0m\u001b[0;34m.\u001b[0m\u001b[0mdownload\u001b[0m\u001b[0;34m(\u001b[0m\u001b[0;34m'/content/cifar10-checkpoints.zip'\u001b[0m\u001b[0;34m)\u001b[0m\u001b[0;34m\u001b[0m\u001b[0;34m\u001b[0m\u001b[0m\n\u001b[0m",
            "\u001b[0;32m/usr/local/lib/python3.8/dist-packages/google/colab/files.py\u001b[0m in \u001b[0;36mdownload\u001b[0;34m(filename)\u001b[0m\n\u001b[1;32m    207\u001b[0m   \u001b[0;32mif\u001b[0m \u001b[0;32mnot\u001b[0m \u001b[0m_os\u001b[0m\u001b[0;34m.\u001b[0m\u001b[0mpath\u001b[0m\u001b[0;34m.\u001b[0m\u001b[0mexists\u001b[0m\u001b[0;34m(\u001b[0m\u001b[0mfilename\u001b[0m\u001b[0;34m)\u001b[0m\u001b[0;34m:\u001b[0m\u001b[0;34m\u001b[0m\u001b[0;34m\u001b[0m\u001b[0m\n\u001b[1;32m    208\u001b[0m     \u001b[0mmsg\u001b[0m \u001b[0;34m=\u001b[0m \u001b[0;34m'Cannot find file: {}'\u001b[0m\u001b[0;34m.\u001b[0m\u001b[0mformat\u001b[0m\u001b[0;34m(\u001b[0m\u001b[0mfilename\u001b[0m\u001b[0;34m)\u001b[0m\u001b[0;34m\u001b[0m\u001b[0;34m\u001b[0m\u001b[0m\n\u001b[0;32m--> 209\u001b[0;31m     \u001b[0;32mraise\u001b[0m \u001b[0mFileNotFoundError\u001b[0m\u001b[0;34m(\u001b[0m\u001b[0mmsg\u001b[0m\u001b[0;34m)\u001b[0m  \u001b[0;31m# pylint: disable=undefined-variable\u001b[0m\u001b[0;34m\u001b[0m\u001b[0;34m\u001b[0m\u001b[0m\n\u001b[0m\u001b[1;32m    210\u001b[0m \u001b[0;34m\u001b[0m\u001b[0m\n\u001b[1;32m    211\u001b[0m   \u001b[0mcomm_manager\u001b[0m \u001b[0;34m=\u001b[0m \u001b[0m_IPython\u001b[0m\u001b[0;34m.\u001b[0m\u001b[0mget_ipython\u001b[0m\u001b[0;34m(\u001b[0m\u001b[0;34m)\u001b[0m\u001b[0;34m.\u001b[0m\u001b[0mkernel\u001b[0m\u001b[0;34m.\u001b[0m\u001b[0mcomm_manager\u001b[0m\u001b[0;34m\u001b[0m\u001b[0;34m\u001b[0m\u001b[0m\n",
            "\u001b[0;31mFileNotFoundError\u001b[0m: Cannot find file: /content/cifar10-checkpoints.zip"
          ]
        }
      ],
      "source": [
        "'''\n",
        "vanilla: special <- reg\n",
        "         attack <- ''\n",
        "         attack_mode <- ''\n",
        "         model <- vgg_wobn5\n",
        "+ bn    special <- reg\n",
        "         attack <- ''\n",
        "         attack_mode <- ''\n",
        "         model <- vgg5\n",
        "+ rat   special <- l2\n",
        "         attack <- 'fgsm'\n",
        "         attack_mode <- 'bptt'\n",
        "         model <- vgg_wobn5\n",
        "+bn +rat special <- l2\n",
        "         attack <- 'fgsm'\n",
        "         attack_mode <- 'bptt'\n",
        "         model <- vgg5\n",
        "'''\n",
        "# !python /content/drive/MyDrive/Colab\\ Notebooks/SNN-RAT-master/main_train.py -special l2 -atk '' -atk_m '' -arch vgg_wobn\n",
        "# !python /content/drive/MyDrive/Colab\\ Notebooks/SNN-RAT-master/main_train.py -special l2 -atk '' -atk_m '' -arch vgg5\n",
        "# !python /content/drive/MyDrive/Colab\\ Notebooks/SNN-RAT-master/main_train.py -special reg -atk fgsm -atk_m bptt -arch vgg_wobn\n",
        "# !python /content/drive/MyDrive/Colab\\ Notebooks/SNN-RAT-master/main_train.py -special reg -atk fgsm -atk_m bptt -arch vgg5\n",
        "\n",
        "\n",
        "#download models\n",
        "# from google.colab import files\n",
        "# !zip -r /content/cifar10-checkpoints.zip /content/cifar10-checkpoints\n",
        "# files.download('/content/cifar10-checkpoints.zip') "
      ]
    },
    {
      "cell_type": "markdown",
      "source": [
        "Experiment: Accuracy/Epsilon for BN model with adversarial training"
      ],
      "metadata": {
        "id": "cJON4b0u3TVD"
      }
    },
    {
      "cell_type": "code",
      "execution_count": null,
      "metadata": {
        "id": "MON_-3KbFdeW",
        "colab": {
          "base_uri": "https://localhost:8080/"
        },
        "outputId": "6ff4f7db-b9b8-4d9d-859b-d99946a764dd"
      },
      "outputs": [
        {
          "output_type": "stream",
          "name": "stdout",
          "text": [
            "Namespace(alpha=2.55, attack='fgsm', attack_mode='bptt', batch_size=64, bbmodel='', config='', dataset='cifar10', device='0', eps=1.0, identifier='vgg5_clean_l2[0.000500]', model='vgg5', seed=42, steps=7, suffix='', time=8, workers=4)\n",
            "[2022-12-23 19:18:56,089][main_test.py][line:64][INFO] start testing!\n",
            "Files already downloaded and verified\n",
            "Files already downloaded and verified\n",
            "[2022-12-23 19:19:15,354][main_test.py][line:132][INFO] {}epsilon=0.000/255 Test acc=91.060\n",
            "[2022-12-23 19:19:21,701][main_test.py][line:132][INFO] {}epsilon=1.000/255 Test acc=71.160\n",
            "[2022-12-23 19:19:27,950][main_test.py][line:132][INFO] {}epsilon=2.000/255 Test acc=49.550\n",
            "[2022-12-23 19:19:34,326][main_test.py][line:132][INFO] {}epsilon=3.000/255 Test acc=33.740\n",
            "[2022-12-23 19:19:40,618][main_test.py][line:132][INFO] {}epsilon=4.000/255 Test acc=22.950\n",
            "[2022-12-23 19:19:46,835][main_test.py][line:132][INFO] {}epsilon=5.000/255 Test acc=15.630\n",
            "[2022-12-23 19:19:53,243][main_test.py][line:132][INFO] {}epsilon=6.000/255 Test acc=10.820\n",
            "[2022-12-23 19:19:59,605][main_test.py][line:132][INFO] {}epsilon=7.000/255 Test acc=8.160\n",
            "[2022-12-23 19:20:05,877][main_test.py][line:132][INFO] {}epsilon=8.000/255 Test acc=6.260\n",
            "[2022-12-23 19:20:05,894][main_test.py][line:135][INFO] <module 'matplotlib.pyplot' from '/usr/local/lib/python3.8/dist-packages/matplotlib/pyplot.py'>\n"
          ]
        }
      ],
      "source": [
        "# !python /content/drive/MyDrive/Colab\\ Notebooks/SNN-RAT-master/main_test.py -id vgg5_FGSM[0.007843][bptt]_reg[0.000500] -eps 1 -atk fgsm -atk_m bptt -arch vgg5\n",
        "# !python /content/drive/MyDrive/Colab\\ Notebooks/SNN-RAT-master/main_test.py -id vgg_wobn_FGSM[0.007843][bptt]_reg[0.000500] -eps 1 -atk fgsm -atk_m bptt -arch vgg_wobn\n",
        "!python /content/drive/MyDrive/Colab\\ Notebooks/SNN-RAT-master/main_test.py -id vgg5_clean_l2[0.000500] -eps 1 -atk fgsm -atk_m bptt -arch vgg5"
      ]
    },
    {
      "cell_type": "markdown",
      "metadata": {
        "id": "TPEnjk_NQswr"
      },
      "source": []
    }
  ],
  "metadata": {
    "colab": {
      "provenance": [],
      "machine_shape": "hm",
      "mount_file_id": "1Kvx-gUaGAXZFB4Y45kMXr8F8kkUhqY18",
      "authorship_tag": "ABX9TyMT76m/aZvfbwVqKlVmjnjQ",
      "include_colab_link": true
    },
    "gpuClass": "premium",
    "kernelspec": {
      "display_name": "Python 3",
      "name": "python3"
    },
    "language_info": {
      "name": "python"
    },
    "accelerator": "GPU"
  },
  "nbformat": 4,
  "nbformat_minor": 0
}